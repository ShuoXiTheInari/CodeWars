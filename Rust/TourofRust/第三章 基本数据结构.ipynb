{
 "cells": [
  {
   "cell_type": "markdown",
   "metadata": {},
   "source": [
    "# 第三章 - 基本数据结构类型\n",
    "现在是我们探索基本类型之外内容的时候了！在本章中，我们将查看 Rust 中最原始的数据结构， 并密切关注它们在内存中的表示。我想你们会喜欢上 Rust 很少隐藏事物运作原理这一点的。\n",
    "\n"
   ]
  },
  {
   "cell_type": "markdown",
   "metadata": {},
   "source": [
    "## 3.1 结构体\n",
    "一个 struct 就是一些字段的集合。\n",
    "\n",
    "字段是一个与数据结构相关联的数据值。它的值可以是基本类型或结构体类型。\n",
    "\n",
    "它的定义就像给编译器的蓝图，告诉编译器如何在内存中布局彼此相邻的字段。"
   ]
  },
  {
   "cell_type": "code",
   "execution_count": null,
   "metadata": {},
   "outputs": [],
   "source": [
    "struct SeaCreature {\n",
    "    // String 是个结构体\n",
    "    animal_type: String,\n",
    "    name: String,\n",
    "    arms: i32,\n",
    "    legs: i32,\n",
    "    weapon: String,\n",
    "}"
   ]
  },
  {
   "cell_type": "markdown",
   "metadata": {},
   "source": [
    "## 3.2 方法调用\n",
    "与函数（function）不同，方法（method）是与特定数据类型关联的函数。\n",
    "\n",
    "静态方法 — 属于某个类型，调用时使用 :: 运算符。\n",
    "\n",
    "实例方法 — 属于某个类型的实例，调用时使用 . 运算符。\n",
    "\n",
    "我们将在后续章节中更多地讨论如何创建自己的方法。"
   ]
  },
  {
   "cell_type": "code",
   "execution_count": 2,
   "metadata": {},
   "outputs": [
    {
     "name": "stdout",
     "output_type": "stream",
     "text": [
      "Hello world! is 12 characters long.\n"
     ]
    }
   ],
   "source": [
    "// 使用静态方法来创建一个String实例\n",
    "let s = String::from(\"Hello world!\");\n",
    "// 使用实例来调用方法\n",
    "println!(\"{} is {} characters long.\", s, s.len());"
   ]
  },
  {
   "cell_type": "markdown",
   "metadata": {},
   "source": [
    "## 3.3 内存\n",
    "Rust 程序有 3 个存放数据的内存区域：\n",
    "\n",
    "* 数据内存 - 对于固定大小和静态（即在整个程序生命周期中都存在）的数据。 考虑一下程序中的文本（例如 “Hello World”），该文本的字节只能读取，因此它们位于该区域中。 编译器对这类数据做了很多优化，由于位置已知且固定，因此通常认为编译器使用起来非常快。\n",
    "* 栈内存 - 对于在函数中声明为变量的数据。 在函数调用期间，内存的位置不会改变，因为编译器可以优化代码，所以栈数据使用起来比较快。\n",
    "* 堆内存 - 对于在程序运行时创建的数据。 此区域中的数据可以添加、移动、删除、调整大小等。由于它的动态特性，通常认为它使用起来比较慢， 但是它允许更多创造性的内存使用。当数据添加到该区域时，我们称其为分配。 从本区域中删除 数据后，我们将其称为释放。"
   ]
  },
  {
   "cell_type": "markdown",
   "metadata": {},
   "source": [
    "## 3.4 在内存中创建数据\n",
    "当我们在代码中实例化一个结构体时，我们的程序会在内存中并排创建关联的字段数据。\n",
    "\n",
    "当我们通过制定所有字段值的方式来实例化时：\n",
    "\n",
    "结构体名 { ... }.\n",
    "\n",
    "结构体字段可以通过 . 运算符来获取。\n",
    "\n",
    "我们例子的内存详情：\n",
    "\n",
    "* 引号内的文本是只读数据（例如“ferris”），因此它位于数据内存区。\n",
    "* 函数调用 String::from 创建一个结构体 String，该结构体与 SeaCreature 的字段并排放置在栈中。 字符串容器通过如下步骤表示可更改的文本：\n",
    "  1. 在堆上创建可修改文本的内存。\n",
    "  2.  将堆中存储对象的内存位置的引用存储在 String 结构体中（在以后的课程中会详细介绍）。\n",
    "* 最后，我们的两个朋友 Ferris 和 Sarah 有在程序中总是固定的位置的数据结构，所以它们被放在栈上。"
   ]
  },
  {
   "cell_type": "code",
   "execution_count": 3,
   "metadata": {},
   "outputs": [
    {
     "name": "stdout",
     "output_type": "stream",
     "text": [
      "Ferris 是只螃蟹。它有 2 只胳膊 4 条腿，还有一个大钳子。\n"
     ]
    },
    {
     "name": "stdout",
     "output_type": "stream",
     "text": [
      "Sarah 是只章鱼。它有 8 只胳膊 0 条腿。它没有杀伤性武器…\n"
     ]
    }
   ],
   "source": [
    "struct SeaCreature {\n",
    "    animal_type: String,\n",
    "    name: String,\n",
    "    arms: i32,\n",
    "    legs: i32,\n",
    "    weapon: String,\n",
    "}\n",
    "\n",
    "// SeaCreature的数据在栈上\n",
    "let ferris = SeaCreature {\n",
    "    // String 结构体也在栈上，\n",
    "    // 但也存放了一个数据在堆上的引用\n",
    "    animal_type: String::from(\"螃蟹\"),\n",
    "    name: String::from(\"Ferris\"),\n",
    "    arms: 2,\n",
    "    legs: 4,\n",
    "    weapon: String::from(\"大钳子\"),\n",
    "};\n",
    "\n",
    "let sarah = SeaCreature {\n",
    "    animal_type: String::from(\"章鱼\"),\n",
    "    name: String::from(\"Sarah\"),\n",
    "    arms: 8,\n",
    "    legs: 0,\n",
    "    weapon: String::from(\"无\"),\n",
    "};\n",
    "\n",
    "println!(\n",
    "    \"{} 是只{}。它有 {} 只胳膊 {} 条腿，还有一个{}。\",\n",
    "    ferris.name, ferris.animal_type, ferris.arms, ferris.legs, ferris.weapon\n",
    ");\n",
    "println!(\n",
    "    \"{} 是只{}。它有 {} 只胳膊 {} 条腿。它没有杀伤性武器…\",\n",
    "    sarah.name, sarah.animal_type, sarah.arms, sarah.legs\n",
    ");"
   ]
  },
  {
   "cell_type": "markdown",
   "metadata": {},
   "source": [
    "## 3.5 类元组结构体\n",
    "简洁起见，你可以创建像元组一样被使用的结构体。\n",
    "\n"
   ]
  },
  {
   "cell_type": "code",
   "execution_count": 4,
   "metadata": {},
   "outputs": [
    {
     "name": "stdout",
     "output_type": "stream",
     "text": [
      "42, 32\n"
     ]
    }
   ],
   "source": [
    "struct Location(i32, i32);\n",
    "\n",
    "let loc = Location(42, 32);\n",
    "println!(\"{}, {}\", loc.0, loc.1);"
   ]
  },
  {
   "cell_type": "markdown",
   "metadata": {},
   "source": [
    "## 3.6 类单元结构体\n",
    "结构体也可以没有任何字段。\n",
    "\n",
    "就像第一章提到的，一个 unit 是空元组 () 的别称。这就是为什么，此类结构体被称为 类单元。\n",
    "\n",
    "这种类型的结构体很少用到。"
   ]
  },
  {
   "cell_type": "code",
   "execution_count": 5,
   "metadata": {},
   "outputs": [],
   "source": [
    "struct Marker;\n",
    "let _m = Marker;"
   ]
  },
  {
   "cell_type": "markdown",
   "metadata": {},
   "source": [
    "## 3.7 枚举\n",
    "枚举允许你使用 enum 关键字创建一个新类型，该类型的值可以包含几个带标记的元素。\n",
    "\n",
    "match 有助于确保对所有可能的枚举值进行彻底的处理，使其成为确保高质量代码的强大工具。"
   ]
  },
  {
   "cell_type": "code",
   "execution_count": 7,
   "metadata": {},
   "outputs": [
    {
     "name": "stdout",
     "output_type": "stream",
     "text": [
      "Ferris is a crab\n"
     ]
    },
    {
     "data": {
      "text/plain": [
       "()"
      ]
     },
     "execution_count": 7,
     "metadata": {},
     "output_type": "execute_result"
    }
   ],
   "source": [
    "#![allow(dead_code)] // this line prevents compiler warnings\n",
    "\n",
    "enum Species {\n",
    "    Crab,\n",
    "    Octopus,\n",
    "    Fish,\n",
    "    Clam\n",
    "}\n",
    "\n",
    "struct SeaCreature {\n",
    "    species: Species,\n",
    "    name: String,\n",
    "    arms: i32,\n",
    "    legs: i32,\n",
    "    weapon: String,\n",
    "}\n",
    "let ferris = SeaCreature {\n",
    "    species: Species::Crab,\n",
    "    name: String::from(\"Ferris\"),\n",
    "    arms: 2,\n",
    "    legs: 4,\n",
    "    weapon: String::from(\"claw\"),\n",
    "};\n",
    "\n",
    "match ferris.species {\n",
    "    Species::Crab => println!(\"{} is a crab\",ferris.name),\n",
    "    Species::Octopus => println!(\"{} is a octopus\",ferris.name),\n",
    "    Species::Fish => println!(\"{} is a fish\",ferris.name),\n",
    "    Species::Clam => println!(\"{} is a clam\",ferris.name),\n",
    "}\n",
    "\n"
   ]
  },
  {
   "cell_type": "markdown",
   "metadata": {},
   "source": [
    "## 3.8 带数据的枚举\n",
    "enum 的元素可以有一个或多个数据类型，从而使其表现得像 C 语言中的联合。\n",
    "\n",
    "当使用 match 对一个 enum 进行模式匹配时，可以将变量名称绑定到每个数据值。\n",
    "\n",
    "enum 的内存细节：\n",
    "\n",
    "* 枚举数据的内存大小等于它最大元素的大小。此举是为了让所有可能的值都能存入相同的内存空间。\n",
    "* 除了元素数据类型（如果有）之外，每个元素还有一个数字值，用于表示它是哪个标签。\n",
    "\n",
    "其他细节：\n",
    "\n",
    "* Rust 的 enum 也被称为标签联合 （tagged-union）\n",
    "* 把类型组合成一种新的类型，这就是人们所说的 Rust 具有 代数类型 的含义。"
   ]
  },
  {
   "cell_type": "code",
   "execution_count": 9,
   "metadata": {},
   "outputs": [
    {
     "name": "stdout",
     "output_type": "stream",
     "text": [
      "ferris is a crab with 2 small claws\n"
     ]
    },
    {
     "data": {
      "text/plain": [
       "()"
      ]
     },
     "execution_count": 9,
     "metadata": {},
     "output_type": "execute_result"
    }
   ],
   "source": [
    "#![allow(dead_code)] // this line prevents compiler warnings\n",
    "\n",
    "enum Species { Crab, Octopus, Fish, Clam }\n",
    "enum PoisonType { Acidic, Painful, Lethal }\n",
    "enum Size { Big, Small }\n",
    "enum Weapon {\n",
    "    Claw(i32, Size),\n",
    "    Poison(PoisonType),\n",
    "    None\n",
    "}\n",
    "\n",
    "struct SeaCreature {\n",
    "    species: Species,\n",
    "    name: String,\n",
    "    arms: i32,\n",
    "    legs: i32,\n",
    "    weapon: Weapon,\n",
    "}\n",
    "\n",
    "let ferris = SeaCreature {\n",
    "    // String struct is also on stack,\n",
    "    // but holds a reference to data on heap\n",
    "    species: Species::Crab,\n",
    "    name: String::from(\"Ferris\"),\n",
    "    arms: 2,\n",
    "    legs: 4,\n",
    "    weapon: Weapon::Claw(2, Size::Small),\n",
    "};\n",
    "\n",
    "match ferris.species {\n",
    "    Species::Crab => {\n",
    "        match ferris.weapon {\n",
    "            Weapon::Claw(num_claws,size) => {\n",
    "                let size_description = match size {\n",
    "                    Size::Big => \"big\",\n",
    "                    Size::Small => \"small\"\n",
    "                };\n",
    "                println!(\"ferris is a crab with {} {} claws\", num_claws, size_description)\n",
    "            },\n",
    "            _ => println!(\"ferris is a crab with some other weapon\")\n",
    "        }\n",
    "    },\n",
    "    _ => println!(\"ferris is some other animal\"),\n",
    "}"
   ]
  },
  {
   "cell_type": "markdown",
   "metadata": {},
   "source": [
    "## 3.9 第三章 - 总结\n",
    "太好了！现在我们有了一些用代码来展示我们想法最基本的工具。 希望现在我们能看到 Rust 的基本操作是如何与它的类型和谐一致地工作的。 接下来我们将讨论一个概念，它为我们的数据类型提供了更大的灵活性：泛型。\n",
    "\n"
   ]
  }
 ],
 "metadata": {
  "kernelspec": {
   "display_name": "Rust",
   "language": "rust",
   "name": "rust"
  },
  "language_info": {
   "codemirror_mode": "rust",
   "file_extension": ".rs",
   "mimetype": "text/rust",
   "name": "rust",
   "pygment_lexer": "rust",
   "version": ""
  }
 },
 "nbformat": 4,
 "nbformat_minor": 2
}
