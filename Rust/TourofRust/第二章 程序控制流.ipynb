{
 "cells": [
  {
   "cell_type": "markdown",
   "metadata": {},
   "source": [
    "# 第二章 - 基本控制流\n",
    "在本章中，我们将讨论 Rust 中的基本控制流方法。 如果你熟悉类 C 的语言，你会感到宾至如归，兴许还能享受到一些小惊喜。"
   ]
  },
  {
   "cell_type": "markdown",
   "metadata": {},
   "source": [
    "### 2.1 if/else if/else\n",
    "Rust 中的代码分支不足为奇。\n",
    "\n",
    "Rust 的条件判断没有括号！~~需要括号干什么。~~我们现有的逻辑就看起来就很干净整洁呀。\n",
    "\n",
    "不过呢，所有常见的逻辑运算符仍然适用：==，!=， <， >， <=， >=， !， ||， &&"
   ]
  },
  {
   "cell_type": "code",
   "execution_count": 8,
   "metadata": {
    "vscode": {
     "languageId": "rust"
    }
   },
   "outputs": [
    {
     "name": "stdout",
     "output_type": "stream",
     "text": [
      "less than 42\n",
      "less than 42\n",
      "is 42\n"
     ]
    }
   ],
   "source": [
    "\n",
    "fn judge_42(x: i32) -> &'static str {\n",
    "    if x == 42 {\n",
    "        \"is 42\"\n",
    "    } else if x < 42 {\n",
    "        \"less than 42\"\n",
    "    } else {\n",
    "        \"greater than 42\"\n",
    "    }\n",
    "}\n",
    "\n",
    "let x = 32;\n",
    "println!(\"{}\", judge_42(x));\n",
    "let x =15;\n",
    "println!(\"{}\", judge_42(x));\n",
    "let x = 42;\n",
    "println!(\"{}\", judge_42(x));"
   ]
  },
  {
   "cell_type": "markdown",
   "metadata": {},
   "source": [
    "### 2.2 循环\n",
    "需要一个无限循环？\n",
    "\n",
    "使用 Rust 很容易实现。\n",
    "\n",
    "break 会退出当前循环。但 loop 还有个秘密，我们很快讲到。\n",
    "\n"
   ]
  },
  {
   "cell_type": "code",
   "execution_count": 11,
   "metadata": {
    "vscode": {
     "languageId": "rust"
    }
   },
   "outputs": [
    {
     "name": "stdout",
     "output_type": "stream",
     "text": [
      "42\n"
     ]
    }
   ],
   "source": [
    "let mut x = 0;\n",
    "    loop {\n",
    "        x += 1;\n",
    "        if x == 42 {\n",
    "            break;\n",
    "        }\n",
    "    }\n",
    "    println!(\"{}\", x);"
   ]
  },
  {
   "cell_type": "markdown",
   "metadata": {},
   "source": [
    "### 2.3 while\n",
    "while 允许你轻松地向循环添加条件。\n",
    "\n",
    "如果条件一旦变为 false，循环就会退出。"
   ]
  },
  {
   "cell_type": "code",
   "execution_count": 12,
   "metadata": {
    "vscode": {
     "languageId": "rust"
    }
   },
   "outputs": [
    {
     "data": {
      "text/plain": [
       "()"
      ]
     },
     "execution_count": 12,
     "metadata": {},
     "output_type": "execute_result"
    }
   ],
   "source": [
    "let mut x = 0;\n",
    "while x != 42 {\n",
    "    x += 1;\n",
    "}"
   ]
  },
  {
   "cell_type": "markdown",
   "metadata": {},
   "source": [
    "### 2.4 for\n",
    "Rust 的 for 循环是一个强大的升级。它遍历来自计算结果为迭代器的任意表达式的值。 迭代器是什么？迭代器是一个你可以一直询问“下一项是什么？”直到没有其他项的对象。\n",
    "\n",
    "我们将在以后的章节中进一步探讨这一点，与此同时，我们知道 Rust 使创建生成整数序列的迭代器变得容易。\n",
    "\n",
    ".. 运算符创建一个可以生成包含起始数字、但不包含末尾数字的数字序列的迭代器。\n",
    "\n",
    "..= 运算符创建一个可以生成包含起始数字、且包含末尾数字的数字序列的迭代器。\n",
    "\n",
    "特别的\n",
    "\n",
    "Rust 的 for 与python不同。\n",
    "\n",
    "Python中的While，for更像是一种替代品的关系，但是Rust中，二者是不等价的，for是一种零成本的抽象，非常推荐使用。"
   ]
  },
  {
   "cell_type": "code",
   "execution_count": 14,
   "metadata": {
    "vscode": {
     "languageId": "rust"
    }
   },
   "outputs": [
    {
     "name": "stdout",
     "output_type": "stream",
     "text": [
      "0\n",
      "1\n",
      "2\n",
      "3\n",
      "4\n",
      "\n",
      "\n",
      "0\n",
      "1\n",
      "2\n",
      "3\n",
      "4\n",
      "5\n"
     ]
    },
    {
     "data": {
      "text/plain": [
       "()"
      ]
     },
     "execution_count": 14,
     "metadata": {},
     "output_type": "execute_result"
    }
   ],
   "source": [
    "for x in 0..5 {\n",
    "    println!(\"{}\", x);\n",
    "}\n",
    "println!(\"\\n\");\n",
    "for x in 0..=5 {\n",
    "    println!(\"{}\", x);\n",
    "}"
   ]
  },
  {
   "cell_type": "markdown",
   "metadata": {},
   "source": [
    "### 2.5 match\n",
    "想念你的 switch 语句吗？Rust 有一个非常有用的关键字，用于匹配值的所有可能条件， 并在匹配为真时执行相应代码。我们先来看看对数字的使用。在未来章节中，我们将有更多 更复杂的数据模式匹配的说明，我向你保证，它将值得等待。\n",
    "\n",
    "match 是穷尽的，意为所有可能的值都必须被考虑到。\n",
    "\n",
    "匹配与解构相结合是迄今为止你在 Rust 中看到的最常见的模式之一。"
   ]
  },
  {
   "cell_type": "code",
   "execution_count": 37,
   "metadata": {
    "vscode": {
     "languageId": "rust"
    }
   },
   "outputs": [
    {
     "name": "stdout",
     "output_type": "stream",
     "text": [
      "found 42 number between 10 to 100!\n"
     ]
    },
    {
     "data": {
      "text/plain": [
       "()"
      ]
     },
     "execution_count": 37,
     "metadata": {},
     "output_type": "execute_result"
    }
   ],
   "source": [
    "let x = 42;\n",
    "\n",
    "match x {\n",
    "    0 => {\n",
    "        println!(\"found zero\");\n",
    "    }\n",
    "    // 我们可以匹配多个值\n",
    "    1 | 2 => {\n",
    "        println!(\"found 1 or 2!\");\n",
    "    }\n",
    "    // 我们可以匹配迭代器\n",
    "    3..=9 => {\n",
    "        println!(\"found a number 3 to 9 inclusively\");\n",
    "    }\n",
    "    // 我们可以将匹配数值绑定到变量\n",
    "    matched_num @ 10..=100 => {\n",
    "        println!(\"found {} number between 10 to 100!\", matched_num);\n",
    "    }\n",
    "    // 这是默认匹配，如果没有处理所有情况，则必须存在该匹配\n",
    "    _ => {\n",
    "        println!(\"found something else!\");\n",
    "    }\n",
    "}"
   ]
  },
  {
   "cell_type": "markdown",
   "metadata": {},
   "source": [
    "### 2.6 从循环中返回值\n",
    "loop 可以被中断以返回一个值。"
   ]
  },
  {
   "cell_type": "code",
   "execution_count": 38,
   "metadata": {
    "vscode": {
     "languageId": "rust"
    }
   },
   "outputs": [
    {
     "name": "stdout",
     "output_type": "stream",
     "text": [
      "from loop: found the 13\n"
     ]
    }
   ],
   "source": [
    "let mut x = 0;\n",
    "let v = loop {\n",
    "    x += 1;\n",
    "    if x == 13 {\n",
    "        break \"found the 13\";\n",
    "    }\n",
    "};\n",
    "println!(\"from loop: {}\", v);"
   ]
  },
  {
   "cell_type": "markdown",
   "metadata": {},
   "source": [
    "### 2.7从块表达式返回值\n",
    "if，match，函数，以及作用域块都有一种返回值的独特方式。\n",
    "\n",
    "如果 if、match、函数或作用域块中的最后一条语句是不带 ; 的表达式， Rust 将把它作为一个值从块中返回。这是一种创建简洁逻辑的好方法，它返回一个 可以放入新变量的值。\n",
    "\n",
    "注意，它还允许 if 语句像简洁的三元表达式一样操作。"
   ]
  },
  {
   "cell_type": "code",
   "execution_count": 39,
   "metadata": {
    "vscode": {
     "languageId": "rust"
    }
   },
   "outputs": [
    {
     "name": "stdout",
     "output_type": "stream",
     "text": [
      "from if: 1\n"
     ]
    },
    {
     "name": "stdout",
     "output_type": "stream",
     "text": [
      "identifying food: is not hotdog\n",
      "from block: 3\n",
      "from function: 7\n"
     ]
    }
   ],
   "source": [
    "fn example() -> i32 {\n",
    "    let x = 42;\n",
    "    // Rust的三元表达式\n",
    "    let v = if x < 42 { -1 } else { 1 };\n",
    "    println!(\"from if: {}\", v);\n",
    "\n",
    "    let food = \"hamburger\";\n",
    "    let result = match food {\n",
    "        \"hotdog\" => \"is hotdog\",\n",
    "        // 注意，当它只是一个返回表达式时，大括号是可选的\n",
    "        _ => \"is not hotdog\",\n",
    "    };\n",
    "    println!(\"identifying food: {}\", result);\n",
    "\n",
    "    let v = {\n",
    "        // 这个作用域块让我们得到一个不影响函数作用域的结果\n",
    "        let a = 1;\n",
    "        let b = 2;\n",
    "        a + b\n",
    "    };\n",
    "    println!(\"from block: {}\", v);\n",
    "\n",
    "    // 在最后从函数中返回值的惯用方法\n",
    "    v + 4\n",
    "}\n",
    "println!(\"from function: {}\", example());"
   ]
  },
  {
   "cell_type": "markdown",
   "metadata": {},
   "source": [
    "### 2.8 第二章总结\n",
    "\n",
    "希望即便是在最基本的语言特性中，我也已经向你展示了 Rust 的强大功能。 我们将在后续章节更深入地讨论 for 和 match，因为我们将获得更多可以 利用它们能力的知识。接下来，我们将讨论 Rust 的基本数据结构。"
   ]
  }
 ],
 "metadata": {
  "kernelspec": {
   "display_name": "Rust",
   "language": "rust",
   "name": "rust"
  },
  "language_info": {
   "codemirror_mode": "rust",
   "file_extension": ".rs",
   "mimetype": "text/rust",
   "name": "Rust",
   "pygment_lexer": "rust",
   "version": ""
  }
 },
 "nbformat": 4,
 "nbformat_minor": 2
}
