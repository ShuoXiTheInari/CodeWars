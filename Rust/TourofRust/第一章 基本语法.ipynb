{
 "cells": [
  {
   "cell_type": "markdown",
   "metadata": {},
   "source": [
    "## Rust教程\n",
    "https://tourofrust.com/00_zh-cn.html\n",
    "欢迎来到 Rust 语言之旅。本教程旨在循序渐进地介绍 Rust 编程语言的特性。大家通常认为 Rust 是一门学习曲线陡峭的语言。我希望在此说明，在我们开始学习复杂的部分之前，还有很多东西需要探索。\n"
   ]
  },
  {
   "cell_type": "code",
   "execution_count": 2,
   "metadata": {
    "vscode": {
     "languageId": "rust"
    }
   },
   "outputs": [
    {
     "name": "stdout",
     "output_type": "stream",
     "text": [
      "你好，🦀\n"
     ]
    }
   ],
   "source": [
    "println!(\"你好，🦀\");"
   ]
  },
  {
   "cell_type": "markdown",
   "metadata": {},
   "source": [
    "在这个经典的例子中，我们展示了 Rust 对 Unicode 字符串的支持。"
   ]
  },
  {
   "cell_type": "markdown",
   "metadata": {},
   "source": [
    "## 第一章 - 基础知识\n",
    "在第一章中，我们将探讨函数、变量和最基本的类型等基础知识。欢迎入坑！"
   ]
  },
  {
   "cell_type": "code",
   "execution_count": 3,
   "metadata": {
    "vscode": {
     "languageId": "rust"
    }
   },
   "outputs": [
    {
     "name": "stdout",
     "output_type": "stream",
     "text": [
      "欢迎来到练习场！你可以修改这儿的代码。\n"
     ]
    }
   ],
   "source": [
    "println!(\"欢迎来到练习场！你可以修改这儿的代码。\");"
   ]
  },
  {
   "cell_type": "markdown",
   "metadata": {},
   "source": [
    "### 1.1 声明变量\n",
    "变量使用 let 关键字来声明。\n",
    "\n",
    "在赋值时，Rust 能够在 99% 的情况下自动推断其类型。如果不能，你也可以手动将类型添加到变量声明中。\n",
    "\n",
    "你也许注意到了，我们可以对同一个变量名进行多次赋值。这就是所谓的变量隐藏，可以更改变量类型以实现对该变量名的后续使用。\n",
    "\n",
    "变量名总是遵循 蛇形命名法 (snake_case)。"
   ]
  },
  {
   "cell_type": "code",
   "execution_count": 4,
   "metadata": {
    "vscode": {
     "languageId": "rust"
    }
   },
   "outputs": [
    {
     "name": "stdout",
     "output_type": "stream",
     "text": [
      "13\n",
      "3.14159\n"
     ]
    }
   ],
   "source": [
    "    // rust 推断出x的类型\n",
    "    let x = 13;\n",
    "    println!(\"{}\", x);\n",
    "\n",
    "    // rust也可以显式声明类型\n",
    "    let x: f64 = 3.14159;\n",
    "    println!(\"{}\", x);\n",
    "\n",
    "    // rust 也支持先声明后初始化，但很少这样做\n",
    "    let x;\n",
    "    x = 0;\n",
    "    println!(\"{}\", x);"
   ]
  },
  {
   "cell_type": "markdown",
   "metadata": {},
   "source": [
    "### 1.2修改变量\n",
    "Rust 非常关心哪些变量是可修改的。值分为两种类型：\n",
    "\n",
    "可变的 - 编译器允许对变量进行读取和写入。\n",
    "不可变的 - 编译器只允许对变量进行读取。\n",
    "可变值用 mut 关键字表示。\n",
    "\n",
    "关于这个概念，我们之后还会有更多的内容，但是眼下请谨记这个关键字即可。"
   ]
  },
  {
   "cell_type": "code",
   "execution_count": null,
   "metadata": {
    "vscode": {
     "languageId": "rust"
    }
   },
   "outputs": [
    {
     "name": "stdout",
     "output_type": "stream",
     "text": [
      "42\n"
     ]
    },
    {
     "name": "stdout",
     "output_type": "stream",
     "text": [
      "13\n"
     ]
    },
    {
     "name": "stdout",
     "output_type": "stream",
     "text": [
      "0\n"
     ]
    },
    {
     "name": "stdout",
     "output_type": "stream",
     "text": [
      "13\n"
     ]
    }
   ],
   "source": [
    "let mut x = 42;\n",
    "println!(\"{}\", x);\n",
    "x = 13;\n",
    "println!(\"{}\", x);"
   ]
  },
  {
   "cell_type": "markdown",
   "metadata": {},
   "source": [
    "### 1.3基本类型\n",
    "\n",
    "Rust 有多种常见的类型：\n",
    "\n",
    "* 布尔型 - bool 表示 true 或 false\n",
    "* 无符号整型- u8 u32 u64 u128 表示正整数\n",
    "* 有符号整型 - i8 i32 i64 i128 表示正负整数\n",
    "* 指针大小的整数 - usize isize 表示内存中内容的索引和大小\n",
    "* 浮点数 - f32 f64\n",
    "* 元组（tuple） - (value, value, ...) 用于在栈上传递固定序列的值\n",
    "* 数组 - 在编译时已知的具有固定长度的相同元素的集合\n",
    "* 切片（slice） - 在运行时已知长度的相同元素的集合\n",
    "* str(string slice) - 在运行时已知长度的文本\n",
    "\n",
    "文本可能比你在其他语言中学到的更复杂，因为 Rust 是一种系统编程语言，它关心的是你可能不太习惯的内存问题。 我们之后将详细讨论这个问题。\n",
    "\n",
    "另外，你也可以通过将类型附加到数字的末尾来明确指定数字类型（如 13u32 和 2u8）"
   ]
  },
  {
   "cell_type": "code",
   "execution_count": null,
   "metadata": {
    "vscode": {
     "languageId": "rust"
    }
   },
   "outputs": [
    {
     "name": "stdout",
     "output_type": "stream",
     "text": [
      "12 12 4.3 4.3 true 13 false hello world!\n"
     ]
    }
   ],
   "source": [
    "let x = 12; // 默认情况下，这是i32\n",
    "let a = 12u8;\n",
    "let b = 4.3; // 默认情况下，这是f64\n",
    "let c = 4.3f32;\n",
    "let bv = true;\n",
    "let t = (13, false);\n",
    "let sentence = \"hello world!\";\n",
    "println!(\n",
    "    \"{} {} {} {} {} {} {} {}\",\n",
    "    x, a, b, c, bv, t.0, t.1, sentence\n",
    ");"
   ]
  },
  {
   "cell_type": "markdown",
   "metadata": {},
   "source": [
    "### 1.4基本类型转换\n",
    "\n",
    "当涉及到数字类型时，Rust 要求明确。一个人不能想当然地把“u8”用在“u32”上而不出错。\n",
    "\n",
    "幸运的是，使用 as 关键字，Rust 使数字类型转换非常容易。\n",
    "\n"
   ]
  },
  {
   "cell_type": "code",
   "execution_count": null,
   "metadata": {
    "vscode": {
     "languageId": "rust"
    }
   },
   "outputs": [
    {
     "name": "stdout",
     "output_type": "stream",
     "text": [
      "20\n"
     ]
    },
    {
     "name": "stdout",
     "output_type": "stream",
     "text": [
      "1\n",
      "256\n"
     ]
    }
   ],
   "source": [
    "let a = 13u8;\n",
    "let b = 7u32;\n",
    "let c = a as u32 + b;\n",
    "println!(\"{}\", c);\n",
    "\n",
    "let t = true;\n",
    "println!(\"{}\", t as u8);\n",
    "\n",
    "let name = 256;\n",
    "println!(\"{}\", name as u32);"
   ]
  },
  {
   "cell_type": "markdown",
   "metadata": {},
   "source": [
    "### 1.5常量\n",
    "\n",
    "常量允许我们高效地指定一个在代码中会被多次使用的公共值。不同于像变量一样在使用的时候会被复制，常量会在编译期间直接用它们的值来替换变量的文本标识符。\n",
    "\n",
    "不同于变量，常量必须始终具有显式的类型。\n",
    "\n",
    "常量名总是遵循***全大写蛇形命名法（SCREAMING_SNAKE_CASE）***。"
   ]
  },
  {
   "cell_type": "code",
   "execution_count": null,
   "metadata": {
    "vscode": {
     "languageId": "rust"
    }
   },
   "outputs": [
    {
     "name": "stdout",
     "output_type": "stream",
     "text": [
      "To make an apple 3.14159 from scratch, you must first create a universe.\n"
     ]
    }
   ],
   "source": [
    "const PI: f32 = 3.14159;\n",
    "\n",
    "println!(\n",
    "    \"To make an apple {} from scratch, you must first create a universe.\",\n",
    "    PI\n",
    ");"
   ]
  },
  {
   "cell_type": "markdown",
   "metadata": {},
   "source": [
    "### 1.6数组\n",
    "数组是所有相同类型数据元素的固定长度集合。\n",
    "\n",
    "一个数组的数据类型是 [T;N]，其中 T 是元素的类型，N 是编译时已知的固定长度。(N的长度必须在创建时被满足！)\n",
    "\n",
    "可以使用 [x] 运算符提取单个元素，其中 x 是所需元素的 usize 索引（从 0 开始）。"
   ]
  },
  {
   "cell_type": "code",
   "execution_count": null,
   "metadata": {
    "vscode": {
     "languageId": "rust"
    }
   },
   "outputs": [
    {
     "name": "stdout",
     "output_type": "stream",
     "text": [
      "[1, 2, 3]\n",
      "2\n"
     ]
    }
   ],
   "source": [
    "let nums: [i32; 3] = [1, 2, 3];\n",
    "println!(\"{:?}\", nums);\n",
    "println!(\"{}\", nums[1]);"
   ]
  },
  {
   "cell_type": "markdown",
   "metadata": {},
   "source": [
    "### 1.7函数\n",
    "函数可以有 0 个或者多个参数。\n",
    "\n",
    "在这个例子中，add 接受类型为 i32（32 位长度的整数）的两个参数。\n",
    "\n",
    "函数名总是遵循 蛇形命名法 (snake_case)。"
   ]
  },
  {
   "cell_type": "code",
   "execution_count": null,
   "metadata": {
    "vscode": {
     "languageId": "rust"
    }
   },
   "outputs": [
    {
     "name": "stdout",
     "output_type": "stream",
     "text": [
      "55\n"
     ]
    }
   ],
   "source": [
    "fn add(x: i32, y: i32) -> i32 {\n",
    "    return x + y;\n",
    "}\n",
    "\n",
    "println!(\"{}\", add(42, 13));"
   ]
  },
  {
   "cell_type": "markdown",
   "metadata": {},
   "source": [
    "#### 1.7.1多个返回值\n",
    "函数可以通过元组来返回多个值。\n",
    "\n",
    "元组元素可以通过他们的索引来获取。\n",
    "\n",
    "Rust 允许我们将后续会看到的各种形式的解构，也允许我们以符合逻辑的方式提取数据结构的子片段。敬请期待后面的内容！"
   ]
  },
  {
   "cell_type": "code",
   "execution_count": null,
   "metadata": {
    "vscode": {
     "languageId": "rust"
    }
   },
   "outputs": [
    {
     "name": "stdout",
     "output_type": "stream",
     "text": [
      "456 123\n"
     ]
    },
    {
     "name": "stdout",
     "output_type": "stream",
     "text": [
      "123 456\n"
     ]
    }
   ],
   "source": [
    "fn swap(x: i32, y: i32) -> (i32, i32) {\n",
    "    return (y, x);\n",
    "}\n",
    "\n",
    "let result = swap(123, 456);\n",
    "println!(\"{} {}\", result.0, result.1);\n",
    "\n",
    "// 将元组解构为两个变量\n",
    "let (a, b) = swap(result.0, result.1);\n",
    "println!(\"{} {}\", a, b);"
   ]
  },
  {
   "cell_type": "markdown",
   "metadata": {},
   "source": [
    "#### 1.7.2返回空值\n",
    "如果没有为函数指定返回类型，它将返回一个空的元组，也称为单元。\n",
    "\n",
    "一个空的元组用 () 表示。\n",
    "\n",
    "直接使用 () 的情况相当不常见。但它经常会出现（比如作为函数返回值），所以了解其来龙去脉非常重要。"
   ]
  },
  {
   "cell_type": "code",
   "execution_count": null,
   "metadata": {
    "vscode": {
     "languageId": "rust"
    }
   },
   "outputs": [
    {
     "name": "stdout",
     "output_type": "stream",
     "text": [
      "The value of a: ()\n"
     ]
    },
    {
     "name": "stdout",
     "output_type": "stream",
     "text": [
      "The value of b: ()\n"
     ]
    }
   ],
   "source": [
    "fn make_nothing() -> () {\n",
    "    return ();\n",
    "}\n",
    "\n",
    "// 返回类型隐含为 ()\n",
    "fn make_nothing2() {\n",
    "    // 如果没有指定返回值，这个函数将会返回 ()\n",
    "}\n",
    "\n",
    "let a = make_nothing();\n",
    "let b = make_nothing2();\n",
    "\n",
    "// 打印a和b的debug字符串，因为很难去打印空\n",
    "println!(\"The value of a: {:?}\", a);\n",
    "println!(\"The value of b: {:?}\", b);"
   ]
  },
  {
   "cell_type": "markdown",
   "metadata": {},
   "source": [
    "第一章总结\n",
    "到目前为止一切都进展顺利！ Rust 的基础知识还不赖，对吧？ 我们一起窥探了 Rust 编译器是如何思考的。 作为一种系统编程语言，它非常关心内存中值的大小，是否可以修改内容，并确保数值符合你的预期。 接下来，我们将看一些老朋友：if 判断和 for 循环。\n",
    "\n",
    "其他教学资源（英文）：\n",
    "\n",
    "[Youtube 视频：Rust Cast - 深入了解 Rust 的基础数字类型 types]https://www.youtube.com/watch?v=n5TRBkbystY\n",
    "\n",
    "[网页：Rust 之书 2018 - 基本数据的深层描述 types](https://doc.rust-lang.org/1.30.0/book/2018-edition/ch03-02-data-types.html)\n",
    "\n",
    "[网页：Rust Cheat Sheet - 数据类型](https://cheats.rs/#basic-types)"
   ]
  }
 ],
 "metadata": {
  "kernelspec": {
   "display_name": "Rust",
   "language": "rust",
   "name": "rust"
  },
  "language_info": {
   "codemirror_mode": "rust",
   "file_extension": ".rs",
   "mimetype": "text/rust",
   "name": "Rust",
   "pygment_lexer": "rust",
   "version": ""
  }
 },
 "nbformat": 4,
 "nbformat_minor": 2
}
